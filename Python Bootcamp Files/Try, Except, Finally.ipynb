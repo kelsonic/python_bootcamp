{
 "cells": [
  {
   "cell_type": "code",
   "execution_count": 1,
   "metadata": {
    "collapsed": false
   },
   "outputs": [
    {
     "ename": "TypeError",
     "evalue": "unsupported operand type(s) for +: 'int' and 'str'",
     "output_type": "error",
     "traceback": [
      "\u001b[1;31m---------------------------------------------------------------------------\u001b[0m",
      "\u001b[1;31mTypeError\u001b[0m                                 Traceback (most recent call last)",
      "\u001b[1;32m<ipython-input-1-842879d18793>\u001b[0m in \u001b[0;36m<module>\u001b[1;34m()\u001b[0m\n\u001b[1;32m----> 1\u001b[1;33m \u001b[1;36m2\u001b[0m \u001b[1;33m+\u001b[0m \u001b[1;34m's'\u001b[0m\u001b[1;33m\u001b[0m\u001b[0m\n\u001b[0m",
      "\u001b[1;31mTypeError\u001b[0m: unsupported operand type(s) for +: 'int' and 'str'"
     ]
    }
   ],
   "source": [
    "2 + 's'"
   ]
  },
  {
   "cell_type": "code",
   "execution_count": 3,
   "metadata": {
    "collapsed": false
   },
   "outputs": [
    {
     "name": "stdout",
     "output_type": "stream",
     "text": [
      "There was a type error!\n",
      "Finally this was printed!\n"
     ]
    }
   ],
   "source": [
    "try:\n",
    "    2 + 's'\n",
    "except TypeError:\n",
    "    print 'There was a type error!'\n",
    "finally:\n",
    "    print 'Finally this was printed!'"
   ]
  },
  {
   "cell_type": "code",
   "execution_count": 9,
   "metadata": {
    "collapsed": false
   },
   "outputs": [
    {
     "name": "stdout",
     "output_type": "stream",
     "text": [
      "Error in writing to the file!\n"
     ]
    }
   ],
   "source": [
    "try:\n",
    "    f = open('testfile','r') # w means write, r means read\n",
    "    f.write('Test write this')\n",
    "except IOError:\n",
    "    print 'Error in writing to the file!'\n",
    "else:\n",
    "    print 'File write was a success!'"
   ]
  },
  {
   "cell_type": "code",
   "execution_count": 11,
   "metadata": {
    "collapsed": false
   },
   "outputs": [
    {
     "name": "stdout",
     "output_type": "stream",
     "text": [
      "There was an error!\n",
      "Always execute finally code blocks!\n"
     ]
    }
   ],
   "source": [
    "try:\n",
    "    f = open('testfile','r') # w means write, r means read\n",
    "    f.write('Test write this')\n",
    "except:\n",
    "    print 'There was an error!'\n",
    "finally:\n",
    "    print 'Always execute finally code blocks!'"
   ]
  },
  {
   "cell_type": "code",
   "execution_count": 16,
   "metadata": {
    "collapsed": true
   },
   "outputs": [],
   "source": [
    "def askint():\n",
    "    try:\n",
    "        val = int(raw_input('Please enter an integer: '))\n",
    "    except:\n",
    "        print 'Looks like you didn\\'t enter an integer!'\n",
    "        val = int(raw_input('Try again. Please enter an integer: '))\n",
    "    finally:\n",
    "        print 'Finally  block executed!'\n",
    "    print val"
   ]
  },
  {
   "cell_type": "code",
   "execution_count": 17,
   "metadata": {
    "collapsed": false
   },
   "outputs": [
    {
     "name": "stdout",
     "output_type": "stream",
     "text": [
      "Please enter an integer: 2\n",
      "Finally  block executed!\n",
      "2\n"
     ]
    }
   ],
   "source": [
    "askint()"
   ]
  },
  {
   "cell_type": "code",
   "execution_count": 18,
   "metadata": {
    "collapsed": false
   },
   "outputs": [
    {
     "name": "stdout",
     "output_type": "stream",
     "text": [
      "Please enter an integer: five\n",
      "Looks like you didn't enter an integer!\n",
      "Try again. Please enter an integer: 3\n",
      "Finally  block executed!\n",
      "3\n"
     ]
    }
   ],
   "source": [
    "askint()"
   ]
  },
  {
   "cell_type": "code",
   "execution_count": 19,
   "metadata": {
    "collapsed": true
   },
   "outputs": [],
   "source": [
    "def askint():\n",
    "    \n",
    "    while True:\n",
    "        try:\n",
    "            val = int(raw_input('Please enter an integer: '))\n",
    "        except:\n",
    "            print 'Looks like you didn\\'t enter an integer!'\n",
    "            continue\n",
    "        # Else block says if there is no exception, then execute this block\n",
    "        else:\n",
    "            print 'Correct, that is an integer!'\n",
    "            break\n",
    "        finally:\n",
    "            print 'Finally  block executed.'\n",
    "        \n",
    "        print val"
   ]
  },
  {
   "cell_type": "code",
   "execution_count": 20,
   "metadata": {
    "collapsed": false
   },
   "outputs": [
    {
     "name": "stdout",
     "output_type": "stream",
     "text": [
      "Please enter an integer: e\n",
      "Looks like you didn't enter an integer!\n",
      "Finally  block executed.\n",
      "Please enter an integer: r\n",
      "Looks like you didn't enter an integer!\n",
      "Finally  block executed.\n",
      "Please enter an integer: e\n",
      "Looks like you didn't enter an integer!\n",
      "Finally  block executed.\n",
      "Please enter an integer: a\n",
      "Looks like you didn't enter an integer!\n",
      "Finally  block executed.\n",
      "Please enter an integer: f\n",
      "Looks like you didn't enter an integer!\n",
      "Finally  block executed.\n",
      "Please enter an integer: 2\n",
      "Correct, that is an integer!\n",
      "Finally  block executed.\n"
     ]
    }
   ],
   "source": [
    "askint()"
   ]
  },
  {
   "cell_type": "code",
   "execution_count": null,
   "metadata": {
    "collapsed": true
   },
   "outputs": [],
   "source": [
    "# If you have a ton of try blocks, it could make it difficult to debug."
   ]
  }
 ],
 "metadata": {
  "kernelspec": {
   "display_name": "Python 2",
   "language": "python",
   "name": "python2"
  },
  "language_info": {
   "codemirror_mode": {
    "name": "ipython",
    "version": 2
   },
   "file_extension": ".py",
   "mimetype": "text/x-python",
   "name": "python",
   "nbconvert_exporter": "python",
   "pygments_lexer": "ipython2",
   "version": "2.7.11"
  }
 },
 "nbformat": 4,
 "nbformat_minor": 0
}
